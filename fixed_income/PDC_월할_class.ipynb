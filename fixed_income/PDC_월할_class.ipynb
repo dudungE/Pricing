{
 "cells": [
  {
   "cell_type": "code",
   "execution_count": 148,
   "id": "cc1985a4",
   "metadata": {},
   "outputs": [],
   "source": [
    "import datetime\n",
    "import pandas as pd\n",
    "from dateutil.relativedelta import relativedelta"
   ]
  },
  {
   "cell_type": "markdown",
   "id": "a6650f35",
   "metadata": {},
   "source": [
    "# Price"
   ]
  },
  {
   "cell_type": "code",
   "execution_count": 165,
   "id": "bb762144",
   "metadata": {},
   "outputs": [],
   "source": [
    "class calc_bond:\n",
    "    \n",
    "    # init\n",
    "    #K = int(12/period)    # 주기\n",
    "#     schedule = date(issuedate)\n",
    "    #interval = relativedelta(months=period)\n",
    "    i = 0\n",
    "    #CF = 10000*CR/K\n",
    "    Price = 0\n",
    "    num = \"22/12/22\"\n",
    "\n",
    "    \n",
    "    # 날짜형식 변환 함수\n",
    "    def date(self, num):\n",
    "        date = datetime.datetime.strptime(num, \"%y/%m/%d\").date()\n",
    "        return date\n",
    "    \n",
    "    def calc_df(self, issuedate, maturity, settlement, CR, YTM, period):\n",
    "        K = int(12/period)\n",
    "        schedule = self.date(issuedate)\n",
    "        interval = relativedelta(months=period)\n",
    "        i = 0\n",
    "        \n",
    "        while schedule < self.date(maturity):\n",
    "\n",
    "            # 직전이자 직후이자 구하기\n",
    "            if self.date(settlement) >= schedule:\n",
    "                before_cd = schedule   \n",
    "                after_cd = schedule + interval \n",
    "\n",
    "            # 이표횟수 및 스케줄\n",
    "            i += 1\n",
    "            schedule += interval\n",
    "\n",
    "    #         print(schedule, interval)\n",
    "            # DF of comp and simp(after_cd, before_cd 계산 이후 init)\n",
    "            DF_comp_init = 1/(1+YTM/K)\n",
    "            DF_simp_init = 1/(1+YTM/K*((after_cd - self.date(settlement))/(after_cd - before_cd)))    \n",
    "\n",
    "\n",
    "            return after_cd, before_cd, DF_comp_init, DF_simp_init\n",
    "\n",
    "            \n",
    "            \n",
    "            \n",
    "    def get_price(self, issuedate, maturity, settlement, CR, YTM, period):\n",
    "\n",
    "        after_cd, before_cd, DF_comp_init, DF_simp_init = self.calc_df(issuedate, maturity, settlement, CR, YTM, period)\n",
    "       \n",
    "        K = int(12/period)\n",
    "        interval = relativedelta(months=period)\n",
    "        schedule = after_cd - interval #  첫 스케줄 init\n",
    "        CF = 10000*CR/K\n",
    "        Price = 0\n",
    "        i = 0\n",
    "        df_CF = pd.DataFrame(columns = ['num','date','CF', 'DF', 'PV of CF'])\n",
    "        \n",
    "        while schedule < self.date(maturity):\n",
    "            i += 1\n",
    "            schedule += interval\n",
    "\n",
    "            # 만기 + Principle\n",
    "            if schedule == self.date(maturity): \n",
    "                CF += 10000\n",
    "\n",
    "            DF_comp = DF_comp_init ** (i-1)\n",
    "            DF_simp = DF_simp_init\n",
    "            DF = round(DF_comp*DF_simp, 4) # discount factor 소수점 4자리 까지\n",
    "            PV_CF = CF*DF_comp*DF_simp\n",
    "\n",
    "    #         print(f\"순서:{i}, 날짜:{schedule}, 현금흐름:{CF}, DF:{DF_comp, DF_simp}, PV of CF:{PV_CF}\")\n",
    "            df_CF.loc[i] = [i, schedule, CF, DF, PV_CF] # dataframe CF 정리\n",
    "            Price += PV_CF \n",
    "\n",
    "        df_CF.set_index(keys='num')\n",
    "\n",
    "        return print(f\"[Price]: {Price}\\n\"), print(f\"[Cash Flow]\\n{df_CF}\")"
   ]
  },
  {
   "cell_type": "code",
   "execution_count": 166,
   "id": "c86d738d",
   "metadata": {},
   "outputs": [],
   "source": [
    "test1 = calc_bond()"
   ]
  },
  {
   "cell_type": "code",
   "execution_count": 167,
   "id": "00b3d5c3",
   "metadata": {},
   "outputs": [
    {
     "name": "stdout",
     "output_type": "stream",
     "text": [
      "[Price]: 10656.25172478993\n",
      "\n",
      "[Cash Flow]\n",
      "    num        date        CF      DF     PV of CF\n",
      "1     1  2014-09-10    156.25  1.0100   157.816154\n",
      "2     2  2015-03-10    156.25  0.9990   156.099064\n",
      "3     3  2015-09-10    156.25  0.9882   154.400657\n",
      "4     4  2016-03-10    156.25  0.9774   152.720729\n",
      "5     5  2016-09-10    156.25  0.9668   151.059079\n",
      "6     6  2017-03-10    156.25  0.9563   149.415508\n",
      "7     7  2017-09-10    156.25  0.9459   147.789820\n",
      "8     8  2018-03-10    156.25  0.9356   146.181820\n",
      "9     9  2018-09-10    156.25  0.9254   144.591316\n",
      "10   10  2019-03-10  10156.25  0.9153  9296.177577\n"
     ]
    },
    {
     "data": {
      "text/plain": [
       "(None, None)"
      ]
     },
     "execution_count": 167,
     "metadata": {},
     "output_type": "execute_result"
    }
   ],
   "source": [
    "# 입력값\n",
    "issuedate = \"14/03/10\"\n",
    "maturity = \"19/03/10\"\n",
    "settlement = \"15/02/23\"     # 기간\n",
    "\n",
    "CR = 0.03125\n",
    "YTM = 0.022   # 금리\n",
    "\n",
    "period = 6   # 주기\n",
    "\n",
    "test1.get_price(issuedate, maturity, settlement, CR, YTM, period)"
   ]
  },
  {
   "cell_type": "code",
   "execution_count": 168,
   "id": "cd031266",
   "metadata": {},
   "outputs": [
    {
     "data": {
      "text/plain": [
       "(datetime.date(2023, 6, 20),\n",
       " datetime.date(2022, 12, 20),\n",
       " 0.9804930899749484,\n",
       " 0.9804930899749484)"
      ]
     },
     "execution_count": 168,
     "metadata": {},
     "output_type": "execute_result"
    }
   ],
   "source": [
    "# 입력값\n",
    "issuedate = \"22/12/20\"\n",
    "maturity = \"25/12/20\"\n",
    "settlement = \"22/12/20\"     # 기간\n",
    "\n",
    "CR = 0.05\n",
    "YTM = 0.03979   # 금리\n",
    "\n",
    "period = 6   # 주기\n",
    "\n",
    "test1.calc_df(issuedate, maturity, settlement, CR, YTM, period)"
   ]
  },
  {
   "cell_type": "code",
   "execution_count": 169,
   "id": "f109dc60",
   "metadata": {},
   "outputs": [
    {
     "name": "stdout",
     "output_type": "stream",
     "text": [
      "[Price]: 10286.054401997393\n",
      "\n",
      "[Cash Flow]\n",
      "   num        date       CF      DF     PV of CF\n",
      "1    1  2023-06-20    250.0  0.9805   245.123272\n",
      "2    2  2023-12-20    250.0  0.9614   240.341675\n",
      "3    3  2024-06-20    250.0  0.9426   235.653351\n",
      "4    4  2024-12-20    250.0  0.9242   231.056483\n",
      "5    5  2025-06-20    250.0  0.9062   226.549285\n",
      "6    6  2025-12-20  10250.0  0.8885  9107.330336\n"
     ]
    },
    {
     "data": {
      "text/plain": [
       "(None, None)"
      ]
     },
     "execution_count": 169,
     "metadata": {},
     "output_type": "execute_result"
    }
   ],
   "source": [
    "test1.get_price(issuedate, maturity, settlement, CR, YTM, period)"
   ]
  },
  {
   "cell_type": "code",
   "execution_count": 170,
   "id": "048d5c04",
   "metadata": {},
   "outputs": [
    {
     "ename": "NameError",
     "evalue": "name 'test' is not defined",
     "output_type": "error",
     "traceback": [
      "\u001b[1;31m---------------------------------------------------------------------------\u001b[0m",
      "\u001b[1;31mNameError\u001b[0m                                 Traceback (most recent call last)",
      "Cell \u001b[1;32mIn[170], line 1\u001b[0m\n\u001b[1;32m----> 1\u001b[0m \u001b[43mtest\u001b[49m\u001b[38;5;241m.\u001b[39mdate(\u001b[38;5;124m\"\u001b[39m\u001b[38;5;124m22/12/22\u001b[39m\u001b[38;5;124m\"\u001b[39m)\n",
      "\u001b[1;31mNameError\u001b[0m: name 'test' is not defined"
     ]
    }
   ],
   "source": [
    "test.date(\"22/12/22\")"
   ]
  },
  {
   "cell_type": "code",
   "execution_count": null,
   "id": "fefd12e5",
   "metadata": {},
   "outputs": [],
   "source": []
  },
  {
   "cell_type": "markdown",
   "id": "89d1d2d5",
   "metadata": {},
   "source": [
    "# PDC구현"
   ]
  },
  {
   "cell_type": "code",
   "execution_count": 269,
   "id": "d36541f3",
   "metadata": {},
   "outputs": [],
   "source": [
    "class calc_bond:\n",
    "    \n",
    "    # transform date\n",
    "    @staticmethod\n",
    "    def date(num):\n",
    "        date = datetime.datetime.strptime(num, \"%y/%m/%d\").date()\n",
    "        return date\n",
    "    \n",
    "    # get date, df\n",
    "    def calc_df(self, issuedate, maturity, settlement, CR, YTM, period):\n",
    "        \n",
    "        # external init\n",
    "        K = int(12/period)\n",
    "        schedule = self.date(issuedate)\n",
    "        interval = relativedelta(months=period)\n",
    "        \n",
    "        # internal init\n",
    "        i = 0\n",
    "        after_cd = self.date(issuedate) + interval\n",
    "        before_cd = self.date(issuedate)\n",
    "        \n",
    "        while schedule < self.date(maturity):\n",
    "            \n",
    "            # coupon num, schedule date\n",
    "            i += 1\n",
    "            schedule += interval\n",
    "            \n",
    "            # 직전이자 직후이자 구하기\n",
    "            if self.date(settlement) >= schedule:\n",
    "                before_cd = schedule   \n",
    "                after_cd = schedule + interval \n",
    "            \n",
    "            \n",
    "\n",
    "            print(schedule, interval, after_cd, before_cd)\n",
    "            # DF of comp and simp(after_cd, before_cd 계산 이후 init)\n",
    "            DF_comp_init = 1/(1+YTM/K)\n",
    "            DF_simp_init = 1/(1+YTM/K*((after_cd - self.date(settlement))/(after_cd - before_cd)))    \n",
    "            \n",
    "            print(i, after_cd, before_cd, DF_comp_init, DF_simp_init)\n",
    "            \n",
    "            return after_cd, before_cd, DF_comp_init, DF_simp_init\n",
    "\n",
    "\n",
    "    def get_price(self, issuedate, maturity, settlement, CR, YTM, period):\n",
    "\n",
    "        after_cd, before_cd, DF_comp_init, DF_simp_init = self.calc_df(issuedate, maturity, settlement, CR, YTM, period)\n",
    "       \n",
    "        K = int(12/period)\n",
    "        interval = relativedelta(months=period)\n",
    "        schedule = after_cd - interval #  첫 스케줄 init\n",
    "        CF = 10000*CR/K\n",
    "        Price = 0\n",
    "        i = 0\n",
    "        df_CF = pd.DataFrame(columns = ['num','date','CF', 'DF', 'PV of CF'])\n",
    "        \n",
    "        \n",
    "        while schedule < self.date(maturity):\n",
    "            \n",
    "            i += 1\n",
    "            schedule += interval\n",
    "#             print(i, schedule)\n",
    "\n",
    "            # 만기 + Principle ~ 규칙인 case만 cover 중\n",
    "            if schedule == self.date(maturity): \n",
    "                CF += 10000\n",
    "\n",
    "            DF_comp = DF_comp_init ** (i-1)\n",
    "            DF_simp = DF_simp_init\n",
    "            DF = round(DF_comp*DF_simp, 4) # discount factor 소수점 4자리 까지\n",
    "            PV_CF = CF*DF_comp*DF_simp\n",
    "\n",
    "    #         print(f\"순서:{i}, 날짜:{schedule}, 현금흐름:{CF}, DF:{DF_comp, DF_simp}, PV of CF:{PV_CF}\")\n",
    "            df_CF.loc[i] = [i, schedule, CF, DF, PV_CF] # dataframe CF 정리\n",
    "            Price += PV_CF \n",
    "\n",
    "        df_CF.set_index(keys='num')\n",
    "        \n",
    "        print(f\"[Price]: {Price}\\n\"), print(f\"[Cash Flow]\\n{df_CF}\\n\")\n",
    "        return Price\n",
    "    \n",
    "    \n",
    "    def calc_dur(self, issuedate, maturity, settlement, CR, YTM, period):\n",
    "        \n",
    "        # init\n",
    "        after_cd, before_cd, DF_comp_init, DF_simp_init = self.calc_df(issuedate, maturity, settlement, CR, YTM, period)\n",
    "        price = self.get_price(issuedate, maturity, settlement, CR, YTM, period)\n",
    "        \n",
    "        K = int(12/period)\n",
    "        interval = relativedelta(months=period)\n",
    "        schedule = after_cd - interval #  첫 스케줄 init\n",
    "        CF = 10000*CR/K\n",
    "        dirty_day = (after_cd - self.date(settlement))/(after_cd - before_cd)\n",
    "        \n",
    "        i = 0\n",
    "        tk = 0 # df of dur\n",
    "        ttkk = 0 # df of conv\n",
    "        duration = 0\n",
    "        convexity = 0\n",
    "        \n",
    "        \n",
    "        while schedule < self.date(maturity):\n",
    "            i += 1\n",
    "            schedule += interval\n",
    "\n",
    "            # 만기 + Principle\n",
    "            if schedule == self.date(maturity): \n",
    "                CF += 10000\n",
    "\n",
    "            DF_comp = DF_comp_init ** (i-1)\n",
    "            DF_simp = DF_simp_init\n",
    "            DF = round(DF_comp*DF_simp, 4) # discount factor 소수점 4자리 까지\n",
    "            PV_CF = CF*DF_comp*DF_simp\n",
    "            weight = PV_CF/price\n",
    "            \n",
    "            if i == 1: \n",
    "                tk = i/K*dirty_day\n",
    "#                 tk1 = tk                \n",
    "                ttkk = dirty_day*(dirty_day+1)/(K**2)\n",
    "#                 ttkk1 = ttkk\n",
    "                \n",
    "            else:\n",
    "                tk = (dirty_day + (i-1))/K \n",
    "#                 ttkk = ((ttkk1+i-1)*(ttkk1+i))/(K**2)\n",
    "                ttkk = ((dirty_day+i-1)*(dirty_day+i))/(K**2) # ttkk1이 아니라 diry_day기준 생각\n",
    "#             print(i,\"W:\", weight, \"tk:\", tk, \"ttkk\", ttkk)\n",
    "            \n",
    "            \n",
    "            duration += weight*tk\n",
    "            convexity += weight * ttkk * (1/(1+YTM/K)**2)\n",
    "        M_duration = duration/(1+YTM/K)\n",
    "        \n",
    "        print(f\"[duration]: {duration}, [M_duration]: {M_duration},[convexity]: {convexity}\")\n",
    "        \n",
    "        return duration, M_duration, convexity"
   ]
  },
  {
   "cell_type": "code",
   "execution_count": 270,
   "id": "b71e6173",
   "metadata": {},
   "outputs": [
    {
     "data": {
      "text/plain": [
       "datetime.date(2014, 3, 10)"
      ]
     },
     "execution_count": 270,
     "metadata": {},
     "output_type": "execute_result"
    }
   ],
   "source": [
    "calc1 = calc_bond()\n",
    "\n",
    "calc1.date(issuedate)"
   ]
  },
  {
   "cell_type": "code",
   "execution_count": 277,
   "id": "4e321586",
   "metadata": {},
   "outputs": [
    {
     "name": "stdout",
     "output_type": "stream",
     "text": [
      "2014-09-10 relativedelta(months=+6) 2014-09-10 2014-03-10\n",
      "1 2014-09-10 2014-03-10 0.9846153846153847 0.9846153846153847\n",
      "[Price]: 10000.000000000005\n",
      "\n",
      "[Cash Flow]\n",
      "    num        date        CF      DF     PV of CF\n",
      "1     1  2014-09-10    156.25  0.9846   153.846154\n",
      "2     2  2015-03-10    156.25  0.9695   151.479290\n",
      "3     3  2015-09-10    156.25  0.9546   149.148839\n",
      "4     4  2016-03-10    156.25  0.9399   146.854242\n",
      "5     5  2016-09-10    156.25  0.9254   144.594946\n",
      "6     6  2017-03-10    156.25  0.9112   142.370408\n",
      "7     7  2017-09-10    156.25  0.8972   140.180094\n",
      "8     8  2018-03-10    156.25  0.8834   138.023477\n",
      "9     9  2018-09-10    156.25  0.8698   135.900039\n",
      "10   10  2019-03-10  10156.25  0.8564  8697.602510\n",
      "\n"
     ]
    },
    {
     "data": {
      "text/plain": [
       "10000.000000000005"
      ]
     },
     "execution_count": 277,
     "metadata": {},
     "output_type": "execute_result"
    }
   ],
   "source": [
    "# 입력값\n",
    "issuedate = \"14/03/10\"\n",
    "maturity = \"19/03/10\"\n",
    "settlement = \"14/03/10\"     # 기간\n",
    "# settlement = \"15/02/23\"     # 기간\n",
    "\n",
    "\n",
    "CR = 0.03125\n",
    "# YTM = 0.022   # 금리\n",
    "YTM = 0.03125   # 금리\n",
    "\n",
    "period = 6   # 주기\n",
    "\n",
    "# calc1.calc_df(issuedate, maturity, settlement, CR, YTM, period)\n",
    "calc1.get_price(issuedate, maturity, settlement, CR, YTM, period)"
   ]
  },
  {
   "cell_type": "code",
   "execution_count": 275,
   "id": "06702ffd",
   "metadata": {},
   "outputs": [
    {
     "name": "stdout",
     "output_type": "stream",
     "text": [
      "2014-09-10 relativedelta(months=+6) 2015-03-10 2014-09-10\n",
      "1 2015-03-10 2014-09-10 0.9891196834817014 0.999089228051776\n",
      "2014-09-10 relativedelta(months=+6) 2015-03-10 2014-09-10\n",
      "1 2015-03-10 2014-09-10 0.9891196834817014 0.999089228051776\n",
      "[Price]: 10499.015833370095\n",
      "\n",
      "[Cash Flow]\n",
      "   num        date        CF      DF     PV of CF\n",
      "1    1  2015-03-10    156.25  0.9991   156.107692\n",
      "2    2  2015-09-10    156.25  0.9882   154.409191\n",
      "3    3  2016-03-10    156.25  0.9775   152.729170\n",
      "4    4  2016-09-10    156.25  0.9668   151.067428\n",
      "5    5  2017-03-10    156.25  0.9563   149.423767\n",
      "6    6  2017-09-10    156.25  0.9459   147.797989\n",
      "7    7  2018-03-10    156.25  0.9356   146.189900\n",
      "8    8  2018-09-10    156.25  0.9254   144.599308\n",
      "9    9  2019-03-10  10156.25  0.9154  9296.691389\n",
      "\n",
      "[duration]: 3.7804831395389633, [M_duration]: 3.7393502863886883,[convexity]: 16.494213300644567\n"
     ]
    },
    {
     "data": {
      "text/plain": [
       "(3.7804831395389633, 3.7393502863886883, 16.494213300644567)"
      ]
     },
     "execution_count": 275,
     "metadata": {},
     "output_type": "execute_result"
    }
   ],
   "source": [
    "calc1.calc_dur(issuedate, maturity, settlement, CR, YTM, period)"
   ]
  },
  {
   "cell_type": "markdown",
   "id": "1e71f4a7",
   "metadata": {},
   "source": [
    "# ytm 산출 from price\n",
    "- scipy optimize.newton https://docs.scipy.org/doc/scipy/reference/generated/scipy.optimize.newton.html"
   ]
  },
  {
   "cell_type": "code",
   "execution_count": 247,
   "id": "98f25b48",
   "metadata": {},
   "outputs": [
    {
     "data": {
      "text/plain": [
       "2.9999999999999996"
      ]
     },
     "execution_count": 247,
     "metadata": {},
     "output_type": "execute_result"
    }
   ],
   "source": [
    "def f(x):\n",
    "    return (x -6)*(x-3)\n",
    "\n",
    "root = optimize.newton(f, 1.5)\n",
    "# root = optimize.newton(f, 1.5, fprime2=lambda x: 6 * x)\n",
    "root"
   ]
  },
  {
   "cell_type": "code",
   "execution_count": 248,
   "id": "2a8124f8",
   "metadata": {},
   "outputs": [
    {
     "data": {
      "text/plain": [
       "-2"
      ]
     },
     "execution_count": 248,
     "metadata": {},
     "output_type": "execute_result"
    }
   ],
   "source": [
    "f(4)"
   ]
  },
  {
   "cell_type": "code",
   "execution_count": 224,
   "id": "518b47ce",
   "metadata": {},
   "outputs": [
    {
     "ename": "TypeError",
     "evalue": "'float' object is not callable",
     "output_type": "error",
     "traceback": [
      "\u001b[1;31m---------------------------------------------------------------------------\u001b[0m",
      "\u001b[1;31mTypeError\u001b[0m                                 Traceback (most recent call last)",
      "Cell \u001b[1;32mIn[224], line 6\u001b[0m\n\u001b[0;32m      2\u001b[0m \u001b[38;5;28;01mfrom\u001b[39;00m \u001b[38;5;21;01mscipy\u001b[39;00m \u001b[38;5;28;01mimport\u001b[39;00m optimize\n\u001b[0;32m      4\u001b[0m \u001b[38;5;28;01mlambda\u001b[39;00m ytm: calc1\u001b[38;5;241m.\u001b[39mget_price(coupon, face_value, ytm, years, freq) \u001b[38;5;241m-\u001b[39m bond_price\n\u001b[1;32m----> 6\u001b[0m \u001b[43moptimize\u001b[49m\u001b[38;5;241;43m.\u001b[39;49m\u001b[43mnewton\u001b[49m\u001b[43m(\u001b[49m\u001b[43mget_yield\u001b[49m\u001b[43m,\u001b[49m\u001b[43m \u001b[49m\u001b[43mestimate\u001b[49m\u001b[43m)\u001b[49m\n",
      "File \u001b[1;32m~\\anaconda3\\envs\\infomax_project\\lib\\site-packages\\scipy\\optimize\\_zeros_py.py:333\u001b[0m, in \u001b[0;36mnewton\u001b[1;34m(func, x0, fprime, args, tol, maxiter, fprime2, x1, rtol, full_output, disp)\u001b[0m\n\u001b[0;32m    331\u001b[0m     p1 \u001b[38;5;241m=\u001b[39m x0 \u001b[38;5;241m*\u001b[39m (\u001b[38;5;241m1\u001b[39m \u001b[38;5;241m+\u001b[39m eps)\n\u001b[0;32m    332\u001b[0m     p1 \u001b[38;5;241m+\u001b[39m\u001b[38;5;241m=\u001b[39m (eps \u001b[38;5;28;01mif\u001b[39;00m p1 \u001b[38;5;241m>\u001b[39m\u001b[38;5;241m=\u001b[39m \u001b[38;5;241m0\u001b[39m \u001b[38;5;28;01melse\u001b[39;00m \u001b[38;5;241m-\u001b[39meps)\n\u001b[1;32m--> 333\u001b[0m q0 \u001b[38;5;241m=\u001b[39m \u001b[43mfunc\u001b[49m\u001b[43m(\u001b[49m\u001b[43mp0\u001b[49m\u001b[43m,\u001b[49m\u001b[43m \u001b[49m\u001b[38;5;241;43m*\u001b[39;49m\u001b[43margs\u001b[49m\u001b[43m)\u001b[49m\n\u001b[0;32m    334\u001b[0m funcalls \u001b[38;5;241m+\u001b[39m\u001b[38;5;241m=\u001b[39m \u001b[38;5;241m1\u001b[39m\n\u001b[0;32m    335\u001b[0m q1 \u001b[38;5;241m=\u001b[39m func(p1, \u001b[38;5;241m*\u001b[39margs)\n",
      "\u001b[1;31mTypeError\u001b[0m: 'float' object is not callable"
     ]
    }
   ],
   "source": [
    "import scipy\n",
    "from scipy import optimize\n",
    "\n",
    "lambda ytm: calc1.get_price(coupon, face_value, ytm, years, freq) - bond_price\n",
    "\n",
    "optimize.newton(get_yield, estimate)"
   ]
  },
  {
   "cell_type": "code",
   "execution_count": 241,
   "id": "31fc33e9",
   "metadata": {},
   "outputs": [
    {
     "ename": "UnboundLocalError",
     "evalue": "local variable 'after_cd' referenced before assignment",
     "output_type": "error",
     "traceback": [
      "\u001b[1;31m---------------------------------------------------------------------------\u001b[0m",
      "\u001b[1;31mUnboundLocalError\u001b[0m                         Traceback (most recent call last)",
      "Cell \u001b[1;32mIn[241], line 11\u001b[0m\n\u001b[0;32m      7\u001b[0m YTM \u001b[38;5;241m=\u001b[39m \u001b[38;5;241m0.03125\u001b[39m   \u001b[38;5;66;03m# 금리\u001b[39;00m\n\u001b[0;32m      9\u001b[0m period \u001b[38;5;241m=\u001b[39m \u001b[38;5;241m6\u001b[39m   \u001b[38;5;66;03m# 주기\u001b[39;00m\n\u001b[1;32m---> 11\u001b[0m \u001b[43mcalc1\u001b[49m\u001b[38;5;241;43m.\u001b[39;49m\u001b[43mget_price\u001b[49m\u001b[43m(\u001b[49m\u001b[43missuedate\u001b[49m\u001b[43m,\u001b[49m\u001b[43m \u001b[49m\u001b[43mmaturity\u001b[49m\u001b[43m,\u001b[49m\u001b[43m \u001b[49m\u001b[43msettlement\u001b[49m\u001b[43m,\u001b[49m\u001b[43m \u001b[49m\u001b[43mCR\u001b[49m\u001b[43m,\u001b[49m\u001b[43m \u001b[49m\u001b[43mYTM\u001b[49m\u001b[43m,\u001b[49m\u001b[43m \u001b[49m\u001b[43mperiod\u001b[49m\u001b[43m)\u001b[49m\n",
      "Cell \u001b[1;32mIn[195], line 40\u001b[0m, in \u001b[0;36mcalc_bond.get_price\u001b[1;34m(self, issuedate, maturity, settlement, CR, YTM, period)\u001b[0m\n\u001b[0;32m     38\u001b[0m \u001b[38;5;28;01mdef\u001b[39;00m \u001b[38;5;21mget_price\u001b[39m(\u001b[38;5;28mself\u001b[39m, issuedate, maturity, settlement, CR, YTM, period):\n\u001b[1;32m---> 40\u001b[0m     after_cd, before_cd, DF_comp_init, DF_simp_init \u001b[38;5;241m=\u001b[39m \u001b[38;5;28;43mself\u001b[39;49m\u001b[38;5;241;43m.\u001b[39;49m\u001b[43mcalc_df\u001b[49m\u001b[43m(\u001b[49m\u001b[43missuedate\u001b[49m\u001b[43m,\u001b[49m\u001b[43m \u001b[49m\u001b[43mmaturity\u001b[49m\u001b[43m,\u001b[49m\u001b[43m \u001b[49m\u001b[43msettlement\u001b[49m\u001b[43m,\u001b[49m\u001b[43m \u001b[49m\u001b[43mCR\u001b[49m\u001b[43m,\u001b[49m\u001b[43m \u001b[49m\u001b[43mYTM\u001b[49m\u001b[43m,\u001b[49m\u001b[43m \u001b[49m\u001b[43mperiod\u001b[49m\u001b[43m)\u001b[49m\n\u001b[0;32m     42\u001b[0m     K \u001b[38;5;241m=\u001b[39m \u001b[38;5;28mint\u001b[39m(\u001b[38;5;241m12\u001b[39m\u001b[38;5;241m/\u001b[39mperiod)\n\u001b[0;32m     43\u001b[0m     interval \u001b[38;5;241m=\u001b[39m relativedelta(months\u001b[38;5;241m=\u001b[39mperiod)\n",
      "Cell \u001b[1;32mIn[195], line 31\u001b[0m, in \u001b[0;36mcalc_bond.calc_df\u001b[1;34m(self, issuedate, maturity, settlement, CR, YTM, period)\u001b[0m\n\u001b[0;32m     28\u001b[0m     \u001b[38;5;66;03m#         print(schedule, interval)\u001b[39;00m\n\u001b[0;32m     29\u001b[0m             \u001b[38;5;66;03m# DF of comp and simp(after_cd, before_cd 계산 이후 init)\u001b[39;00m\n\u001b[0;32m     30\u001b[0m             DF_comp_init \u001b[38;5;241m=\u001b[39m \u001b[38;5;241m1\u001b[39m\u001b[38;5;241m/\u001b[39m(\u001b[38;5;241m1\u001b[39m\u001b[38;5;241m+\u001b[39mYTM\u001b[38;5;241m/\u001b[39mK)\n\u001b[1;32m---> 31\u001b[0m             DF_simp_init \u001b[38;5;241m=\u001b[39m \u001b[38;5;241m1\u001b[39m\u001b[38;5;241m/\u001b[39m(\u001b[38;5;241m1\u001b[39m\u001b[38;5;241m+\u001b[39mYTM\u001b[38;5;241m/\u001b[39mK\u001b[38;5;241m*\u001b[39m((\u001b[43mafter_cd\u001b[49m \u001b[38;5;241m-\u001b[39m \u001b[38;5;28mself\u001b[39m\u001b[38;5;241m.\u001b[39mdate(settlement))\u001b[38;5;241m/\u001b[39m(after_cd \u001b[38;5;241m-\u001b[39m before_cd)))    \n\u001b[0;32m     33\u001b[0m \u001b[38;5;66;03m#             print(i, after_cd, before_cd, DF_comp_init, DF_simp_init)\u001b[39;00m\n\u001b[0;32m     35\u001b[0m             \u001b[38;5;28;01mreturn\u001b[39;00m after_cd, before_cd, DF_comp_init, DF_simp_init\n",
      "\u001b[1;31mUnboundLocalError\u001b[0m: local variable 'after_cd' referenced before assignment"
     ]
    }
   ],
   "source": [
    "# 입력값\n",
    "issuedate = \"14/03/10\"\n",
    "maturity = \"19/03/10\"\n",
    "settlement = \"14/03/10\"     # 기간\n",
    "\n",
    "CR = 0.03125\n",
    "YTM = 0.03125   # 금리\n",
    "\n",
    "period = 6   # 주기\n",
    "\n",
    "calc1.get_price(issuedate, maturity, settlement, CR, YTM, period)"
   ]
  },
  {
   "cell_type": "code",
   "execution_count": 228,
   "id": "6d45ff51",
   "metadata": {},
   "outputs": [
    {
     "name": "stdout",
     "output_type": "stream",
     "text": [
      "[Price]: 11406.25\n",
      "\n",
      "[Cash Flow]\n",
      "   num        date        CF   DF  PV of CF\n",
      "1    1  2015-03-10    156.25  1.0    156.25\n",
      "2    2  2015-09-10    156.25  1.0    156.25\n",
      "3    3  2016-03-10    156.25  1.0    156.25\n",
      "4    4  2016-09-10    156.25  1.0    156.25\n",
      "5    5  2017-03-10    156.25  1.0    156.25\n",
      "6    6  2017-09-10    156.25  1.0    156.25\n",
      "7    7  2018-03-10    156.25  1.0    156.25\n",
      "8    8  2018-09-10    156.25  1.0    156.25\n",
      "9    9  2019-03-10  10156.25  1.0  10156.25\n",
      "\n",
      "[Price]: 11401.922451183545\n",
      "\n",
      "[Cash Flow]\n",
      "   num        date        CF      DF      PV of CF\n",
      "1    1  2015-03-10    156.25  1.0000    156.249353\n",
      "2    2  2015-09-10    156.25  0.9999    156.241540\n",
      "3    3  2016-03-10    156.25  0.9999    156.233729\n",
      "4    4  2016-09-10    156.25  0.9998    156.225917\n",
      "5    5  2017-03-10    156.25  0.9998    156.218107\n",
      "6    6  2017-09-10    156.25  0.9997    156.210296\n",
      "7    7  2018-03-10    156.25  0.9997    156.202486\n",
      "8    8  2018-09-10    156.25  0.9996    156.194676\n",
      "9    9  2019-03-10  10156.25  0.9996  10152.146347\n",
      "\n",
      "[Price]: 10539.774626117032\n",
      "\n",
      "[Cash Flow]\n",
      "   num        date        CF      DF     PV of CF\n",
      "1    1  2015-03-10    156.25  0.9991   156.114386\n",
      "2    2  2015-09-10    156.25  0.9888   154.494947\n",
      "3    3  2016-03-10    156.25  0.9785   152.892307\n",
      "4    4  2016-09-10    156.25  0.9684   151.306293\n",
      "5    5  2017-03-10    156.25  0.9583   149.736730\n",
      "6    6  2017-09-10    156.25  0.9484   148.183450\n",
      "7    7  2018-03-10    156.25  0.9385   146.646282\n",
      "8    8  2018-09-10    156.25  0.9288   145.125060\n",
      "9    9  2019-03-10  10156.25  0.9192  9335.275171\n",
      "\n",
      "[Price]: 10500.956106063568\n",
      "\n",
      "[Cash Flow]\n",
      "   num        date        CF      DF     PV of CF\n",
      "1    1  2015-03-10    156.25  0.9991   156.108011\n",
      "2    2  2015-09-10    156.25  0.9882   154.413280\n",
      "3    3  2016-03-10    156.25  0.9775   152.736947\n",
      "4    4  2016-09-10    156.25  0.9669   151.078813\n",
      "5    5  2017-03-10    156.25  0.9564   149.438679\n",
      "6    6  2017-09-10    156.25  0.9460   147.816351\n",
      "7    7  2018-03-10    156.25  0.9358   146.211635\n",
      "8    8  2018-09-10    156.25  0.9256   144.624341\n",
      "9    9  2019-03-10  10156.25  0.9155  9298.528050\n",
      "\n",
      "[Price]: 10499.014438181282\n",
      "\n",
      "[Cash Flow]\n",
      "   num        date        CF      DF     PV of CF\n",
      "1    1  2015-03-10    156.25  0.9991   156.107692\n",
      "2    2  2015-09-10    156.25  0.9882   154.409188\n",
      "3    3  2016-03-10    156.25  0.9775   152.729164\n",
      "4    4  2016-09-10    156.25  0.9668   151.067420\n",
      "5    5  2017-03-10    156.25  0.9563   149.423756\n",
      "6    6  2017-09-10    156.25  0.9459   147.797976\n",
      "7    7  2018-03-10    156.25  0.9356   146.189884\n",
      "8    8  2018-09-10    156.25  0.9254   144.599290\n",
      "9    9  2019-03-10  10156.25  0.9154  9296.690069\n",
      "\n",
      "[Price]: 10499.01000048459\n",
      "\n",
      "[Cash Flow]\n",
      "   num        date        CF      DF     PV of CF\n",
      "1    1  2015-03-10    156.25  0.9991   156.107691\n",
      "2    2  2015-09-10    156.25  0.9882   154.409178\n",
      "3    3  2016-03-10    156.25  0.9775   152.729147\n",
      "4    4  2016-09-10    156.25  0.9668   151.067394\n",
      "5    5  2017-03-10    156.25  0.9563   149.423722\n",
      "6    6  2017-09-10    156.25  0.9459   147.797934\n",
      "7    7  2018-03-10    156.25  0.9356   146.189835\n",
      "8    8  2018-09-10    156.25  0.9254   144.599232\n",
      "9    9  2019-03-10  10156.25  0.9154  9296.685868\n",
      "\n"
     ]
    },
    {
     "data": {
      "text/plain": [
       "0.022000148568574397"
      ]
     },
     "execution_count": 228,
     "metadata": {},
     "output_type": "execute_result"
    }
   ],
   "source": [
    "bond_price = 10499.01\n",
    "get_irr = lambda IRR: calc1.get_price(issuedate, maturity, settlement, CR, IRR, period) - bond_price\n",
    "estimate = 0\n",
    "\n",
    "optimize.newton(get_irr, estimate)"
   ]
  },
  {
   "cell_type": "markdown",
   "id": "5ca17200",
   "metadata": {},
   "source": [
    "https://stackoverflow.com/questions/46107306/scipy-optimizer-t-is-not-defined"
   ]
  },
  {
   "cell_type": "code",
   "execution_count": 199,
   "id": "ad3245f6",
   "metadata": {},
   "outputs": [
    {
     "name": "stdout",
     "output_type": "stream",
     "text": [
      "0.09369155345239477\n"
     ]
    }
   ],
   "source": [
    "import scipy.optimize as optimize\n",
    "\n",
    "def bond_ytm(price, par, T, coup, freq=2, guess=0.05):\n",
    "    freq = float(freq)\n",
    "    periods = T*freq\n",
    "    coupon = coup/100.*par/freq\n",
    "    dt = [(i+1)/freq for i in range(int(periods))]\n",
    "    ytm_func = lambda y : \\\n",
    "    sum([coupon / (1 + y / freq)**(freq * t) for t in dt]) + \\\n",
    "    par / (1 + y / freq)**(freq * max(dt)) - price\n",
    "\n",
    "    return optimize.newton(ytm_func, guess)\n",
    "\n",
    "ytm = bond_ytm(95.0428, 100, 1.5, 5.75, 2)\n",
    "print(ytm)"
   ]
  },
  {
   "cell_type": "code",
   "execution_count": null,
   "id": "34aa3c5f",
   "metadata": {},
   "outputs": [],
   "source": []
  },
  {
   "cell_type": "code",
   "execution_count": null,
   "id": "877084e5",
   "metadata": {},
   "outputs": [],
   "source": []
  },
  {
   "cell_type": "code",
   "execution_count": null,
   "id": "46c92e00",
   "metadata": {},
   "outputs": [],
   "source": []
  },
  {
   "cell_type": "code",
   "execution_count": 147,
   "id": "2cd5484f",
   "metadata": {},
   "outputs": [
    {
     "name": "stdout",
     "output_type": "stream",
     "text": [
      "1 2023-06-10 2022-12-10 0.9795806415273621 0.9812319707049422\n",
      "1 2023-06-10 2022-12-10 0.9795806415273621 0.9812319707049422\n",
      "1 2023-06-10\n",
      "2 2023-12-10\n",
      "3 2024-06-10\n",
      "4 2024-12-10\n",
      "5 2025-06-10\n",
      "[Price]: 9771.003433794545\n",
      "\n",
      "[Cash Flow]\n",
      "   num        date        CF      DF     PV of CF\n",
      "1    1  2023-06-10    156.25  0.9812   153.317495\n",
      "2    2  2023-12-10    156.25  0.9612   150.186851\n",
      "3    3  2024-06-10    156.25  0.9416   147.120131\n",
      "4    4  2024-12-10    156.25  0.9223   144.116033\n",
      "5    5  2025-06-10  10156.25  0.9035  9176.262924\n",
      "1 W: 0.015691069649241413 tk: 0.45879120879120877 ttkk 0.43988497765970286\n",
      "2 W: 0.015370668073254424 tk: 0.9587912087912087 ttkk 1.3986761864509116\n",
      "3 W: 0.015056808891902713 tk: 1.4587912087912087 ttkk 2.85746739524212\n",
      "4 W: 0.01474935851368495 tk: 1.9587912087912087 ttkk 4.81625860403333\n",
      "5 W: 0.9391320948719165 tk: 2.458791208791209 ttkk 7.275049812824539\n"
     ]
    },
    {
     "data": {
      "text/plain": [
       "(2.3819215792340995, 2.333284268654007, 6.692765207713617)"
      ]
     },
     "execution_count": 147,
     "metadata": {},
     "output_type": "execute_result"
    }
   ],
   "source": [
    "# 입력값\n",
    "issuedate = \"22/06/10\"\n",
    "maturity = \"25/06/10\"\n",
    "settlement = \"22/12/25\"     # 기간\n",
    "\n",
    "CR = 0.03125\n",
    "YTM = 0.04169   # 금리\n",
    "\n",
    "period = 6   # 주기\n",
    "\n",
    "calc1.calc_dur(issuedate, maturity, settlement, CR, YTM, period)"
   ]
  },
  {
   "cell_type": "code",
   "execution_count": null,
   "id": "106bb27f",
   "metadata": {},
   "outputs": [],
   "source": []
  },
  {
   "cell_type": "code",
   "execution_count": null,
   "id": "967a6e44",
   "metadata": {},
   "outputs": [],
   "source": []
  }
 ],
 "metadata": {
  "kernelspec": {
   "display_name": "Infomax",
   "language": "python",
   "name": "infomax_project"
  },
  "language_info": {
   "codemirror_mode": {
    "name": "ipython",
    "version": 3
   },
   "file_extension": ".py",
   "mimetype": "text/x-python",
   "name": "python",
   "nbconvert_exporter": "python",
   "pygments_lexer": "ipython3",
   "version": "3.10.8"
  }
 },
 "nbformat": 4,
 "nbformat_minor": 5
}
